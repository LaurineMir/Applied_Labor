{
 "cells": [
  {
   "cell_type": "code",
   "execution_count": 1,
   "metadata": {},
   "outputs": [],
   "source": [
    "import pandas as pd\n",
    "import os\n",
    "import matplotlib.pyplot as plt\n",
    "import numpy as np\n",
    "import seaborn as sns\n",
    "from sklearn.model_selection import train_test_split,KFold\n",
    "import pickle"
   ]
  },
  {
   "cell_type": "code",
   "execution_count": 2,
   "metadata": {},
   "outputs": [],
   "source": [
    "import ot\n",
    "from sklearn.linear_model import Ridge\n",
    "from sklearn.preprocessing import SplineTransformer\n",
    "from sklearn.pipeline import make_pipeline\n",
    "from sklearn.metrics import mean_squared_error"
   ]
  },
  {
   "cell_type": "code",
   "execution_count": 3,
   "metadata": {},
   "outputs": [],
   "source": [
    "from utils import *\n",
    "from estimators import train_random_forest"
   ]
  },
  {
   "cell_type": "code",
   "execution_count": 4,
   "metadata": {},
   "outputs": [],
   "source": [
    "data_path =\"//casd.fr/casdfs/Projets/ENSAE05/Data\"\n",
    "os.chdir(data_path)"
   ]
  },
  {
   "cell_type": "code",
   "execution_count": 5,
   "metadata": {},
   "outputs": [],
   "source": [
    "path = \"c:/Users/Public/Documents/teo&lolo/big_df1319.csv\""
   ]
  },
  {
   "cell_type": "code",
   "execution_count": 6,
   "metadata": {},
   "outputs": [],
   "source": [
    "#creeer big df avec les bonnes colonnes\n",
    "# \n",
    "# # colonnes= ['AGE', 'nninouv','SNR', 'an', 'ANNAI','CS1','SX', 'CE', 'cat']\n",
    "\n",
    "# df = big_df[colonnes]\n",
    "# df.to_csv(\"c:/Users/Public/Documents/teo&lolo/big_df1319.csv\", index=False)\n",
    "# df"
   ]
  },
  {
   "cell_type": "code",
   "execution_count": 8,
   "metadata": {},
   "outputs": [],
   "source": [
    "big_df = get_cleaned_df_from_path(path)\n"
   ]
  },
  {
   "cell_type": "code",
   "execution_count": 8,
   "metadata": {},
   "outputs": [],
   "source": [
    "# big_df.to_csv(\"c:/Users/Public/Documents/teo&lolo/big_df1319_cleaned.csv\", index=False)"
   ]
  },
  {
   "cell_type": "code",
   "execution_count": 8,
   "metadata": {},
   "outputs": [],
   "source": [
    "big_df=convert_snr(big_df)"
   ]
  },
  {
   "cell_type": "code",
   "execution_count": null,
   "metadata": {},
   "outputs": [],
   "source": [
    "big_df['SNR']"
   ]
  },
  {
   "cell_type": "code",
   "execution_count": 9,
   "metadata": {},
   "outputs": [],
   "source": [
    "# big_df = pd.read_csv(\"c:/Users/Public/Documents/teo&lolo/big_df1319_cleaned.csv\")"
   ]
  },
  {
   "cell_type": "code",
   "execution_count": 10,
   "metadata": {},
   "outputs": [],
   "source": [
    "# df = big_df[((big_df['AGE']==30) | (big_df['AGE']==31))]"
   ]
  },
  {
   "cell_type": "code",
   "execution_count": 11,
   "metadata": {},
   "outputs": [],
   "source": [
    "# sample=get_sampled_df_age(df,30, 0, 1000,verbose=True)"
   ]
  },
  {
   "cell_type": "code",
   "execution_count": 12,
   "metadata": {},
   "outputs": [],
   "source": [
    "# df =convert_to_unique_snr(sample, verbose=True)"
   ]
  },
  {
   "cell_type": "code",
   "execution_count": 13,
   "metadata": {},
   "outputs": [],
   "source": [
    "# df.to_csv(\"c:/Users/Public/Documents/teo&lolo/big_df1319_unique_clean_2059.csv\")"
   ]
  },
  {
   "cell_type": "code",
   "execution_count": 14,
   "metadata": {},
   "outputs": [],
   "source": [
    "# df = pd.read_csv(\"c:/Users/Public/Documents/teo&lolo/big_df1319_unique_clean_2059.csv\")"
   ]
  },
  {
   "cell_type": "code",
   "execution_count": 15,
   "metadata": {},
   "outputs": [],
   "source": [
    "# sample_filtered = get_subset_joint(df,30)\n",
    "\n",
    "# train_random_forest(sample_filtered,30)"
   ]
  },
  {
   "cell_type": "code",
   "execution_count": 16,
   "metadata": {},
   "outputs": [],
   "source": [
    "# nninouvs = get_identifiers(df)\n",
    "# see_marginal(df, 'CE')"
   ]
  },
  {
   "cell_type": "code",
   "execution_count": 17,
   "metadata": {},
   "outputs": [],
   "source": [
    "# taille =20\n",
    "# df=df.groupby('AGE', group_keys=False).apply(remove_upper_quantile)\n",
    "# print(df)\n",
    "# df['AGE_group'] = pd.cut(df['AGE'], bins=range(int(df['AGE'].min()), int(df['AGE'].max())+taille,taille), right= False)\n",
    "# # df['log_SNR'] = np.where(df['SNR']>1, np.log(df['SNR']),0)"
   ]
  },
  {
   "cell_type": "code",
   "execution_count": 18,
   "metadata": {},
   "outputs": [],
   "source": [
    "# n=5\n",
    "\n",
    "# sample_filtered = get_subset_joint(df,30)\n",
    "\n",
    "# real_joint(sample_filtered,30)"
   ]
  },
  {
   "cell_type": "code",
   "execution_count": 9,
   "metadata": {},
   "outputs": [],
   "source": [
    "df=pd.concat([G_dict['df_30_0'],G_dict['df_30_1']], ignore_index=True)"
   ]
  },
  {
   "cell_type": "code",
   "execution_count": 10,
   "metadata": {},
   "outputs": [],
   "source": [
    "df_bis=get_sampled_df_age(df,30,0,1000)\n",
    "df_bis=get_subset_joint(df_bis,30)"
   ]
  },
  {
   "cell_type": "code",
   "execution_count": null,
   "metadata": {},
   "outputs": [],
   "source": [
    "G = transport_annee(df_bis,30,alpha=0, beta=0, gamma=0, delta=0,verbose=True,compare_distrib=True)"
   ]
  },
  {
   "cell_type": "code",
   "execution_count": 11,
   "metadata": {},
   "outputs": [],
   "source": [
    "with open('c:/Users/Public/Documents/teo&lolo/params.txt','r') as f :\n",
    "\n",
    "    for line in f :\n",
    "        if line.startswith(\"age : 30\"):\n",
    "            params=recup_values(line)\n",
    "            age = int(params['age'])\n",
    "            alpha = params['alpha']\n",
    "            beta = params['beta']\n",
    "            gamma = params['gamma']\n",
    "            delta = params['delta']"
   ]
  },
  {
   "cell_type": "code",
   "execution_count": null,
   "metadata": {},
   "outputs": [],
   "source": [
    "G = transport_annee(df_bis,30,alpha=alpha, beta=beta, gamma=gamma, delta=delta,verbose=True,compare_distrib=True,category=True)"
   ]
  },
  {
   "cell_type": "code",
   "execution_count": null,
   "metadata": {},
   "outputs": [],
   "source": [
    "train_random_forest(df_bis,30)"
   ]
  },
  {
   "cell_type": "code",
   "execution_count": 20,
   "metadata": {},
   "outputs": [],
   "source": [
    "# G = transport_annee(sample_filtered.head(100),30,alpha=0, beta=0, gamma=0, delta=100000000,verbose=True)"
   ]
  },
  {
   "cell_type": "code",
   "execution_count": 21,
   "metadata": {},
   "outputs": [],
   "source": [
    "# unique_alpha=10\n",
    "# G = transport_annee(sample_filtered.head(800),30,alpha=1000, beta=10, gamma=10, delta=10,compare_distrib=True)\n"
   ]
  },
  {
   "cell_type": "code",
   "execution_count": 22,
   "metadata": {},
   "outputs": [],
   "source": [
    "# with open('c:/Users/Public/Documents/teo&lolo/params.txt','w') as f:\n",
    "#     for age in range(20,61):\n",
    "#         df = get_sampled_df_age(big_df,age, 0, 400)\n",
    "#         [alpha,beta,gamma,delta],best_list = best_alpha(df, age, 4, verbose=True, init=2)\n",
    "#         f.write(f\"age : {age}, alpha :{alpha}, beta :{beta}, gamma :{gamma}, delta :{delta} \\n\")\n",
    "#         f.write(f'best scores : {best_list} \\n')\n",
    "#         f.flush()\n",
    "#         os.fsync(f.fileno())"
   ]
  },
  {
   "cell_type": "code",
   "execution_count": null,
   "metadata": {},
   "outputs": [],
   "source": [
    "# n_persons = 3000\n",
    "\n",
    "# with open('c:/Users/Public/Documents/teo&lolo/params.txt','r') as f :\n",
    "#     G_dict={}\n",
    "#     ind=0\n",
    "#     for line in f :\n",
    "#         print(ind+20)\n",
    "#         if line.startswith(\"age :\"):\n",
    "#             ind+=1\n",
    "#             params=recup_values(line)\n",
    "#             age = int(params['age'])\n",
    "#             alpha = params['alpha']\n",
    "#             beta = params['beta']\n",
    "#             gamma = params['gamma']\n",
    "#             delta = params['delta']\n",
    "\n",
    "#             df = get_sampled_df_age(big_df,age, 0, n_persons)\n",
    "#             G_dict[age]= transport_annee(df,age, alpha=alpha, beta=beta, gamma=gamma,delta=delta, compare_distrib=False)\n",
    "#             G_dict[f\"df_{age}_0\"] =df[df['AGE']==age].reset_index(drop=True)\n",
    "#             G_dict[f\"df_{age}_1\"] =df[df['AGE']==age+1].reset_index(drop=True)\n"
   ]
  },
  {
   "cell_type": "code",
   "execution_count": 12,
   "metadata": {},
   "outputs": [],
   "source": [
    "# with open('c:/Users/Public/Documents/teo&lolo/dict_G_bis.pkl',\"wb\") as f:\n",
    "#      pickle.dump(G_dict,f)"
   ]
  },
  {
   "cell_type": "code",
   "execution_count": 6,
   "metadata": {},
   "outputs": [],
   "source": [
    "with open('c:/Users/Public/Documents/teo&lolo/dict_G_bis.pkl',\"rb\") as f:\n",
    "   G_dict =  pickle.load(f)"
   ]
  },
  {
   "cell_type": "code",
   "execution_count": null,
   "metadata": {},
   "outputs": [],
   "source": [
    "G_dict\n"
   ]
  },
  {
   "cell_type": "code",
   "execution_count": 8,
   "metadata": {},
   "outputs": [],
   "source": [
    "G_dict=write_str(G_dict)"
   ]
  },
  {
   "cell_type": "code",
   "execution_count": null,
   "metadata": {},
   "outputs": [],
   "source": [
    "G_dict[\"df_40_0\"][G_dict[\"df_40_0\"]['SX']!=\"1\"]['SX']"
   ]
  },
  {
   "cell_type": "code",
   "execution_count": null,
   "metadata": {},
   "outputs": [],
   "source": [
    "s_values,s_plus_values,age_values = get_s_age_tuples(G_dict, genre=\"1\", cs=\"5\")"
   ]
  },
  {
   "cell_type": "code",
   "execution_count": 28,
   "metadata": {},
   "outputs": [],
   "source": [
    "dict_cs={\n",
    "    '5':'Employés',\n",
    "    '6' :'Ouvriers',\n",
    "    '4' : 'Cadres sup',\n",
    "    '3' : 'Professions intermédiaires',\n",
    "    '2' : 'Artisans, commerçants',\n",
    "    '1' : 'Agriculteurs'\n",
    "}"
   ]
  },
  {
   "cell_type": "code",
   "execution_count": null,
   "metadata": {},
   "outputs": [],
   "source": [
    "mean_trajectories(G_dict,'1','6')"
   ]
  },
  {
   "cell_type": "code",
   "execution_count": null,
   "metadata": {},
   "outputs": [],
   "source": [
    "mean_trajectories(G_dict,'1','3')"
   ]
  },
  {
   "cell_type": "code",
   "execution_count": null,
   "metadata": {},
   "outputs": [],
   "source": [
    "mean_trajectories(G_dict,'1','4')"
   ]
  },
  {
   "cell_type": "code",
   "execution_count": null,
   "metadata": {},
   "outputs": [],
   "source": [
    "mean_trajectories(G_dict,'1','2')"
   ]
  },
  {
   "cell_type": "code",
   "execution_count": null,
   "metadata": {},
   "outputs": [],
   "source": [
    "mean_trajectories(G_dict,'1','1')"
   ]
  },
  {
   "cell_type": "code",
   "execution_count": null,
   "metadata": {},
   "outputs": [],
   "source": [
    "mean_trajectories(G_dict,'1','5')"
   ]
  },
  {
   "cell_type": "code",
   "execution_count": null,
   "metadata": {},
   "outputs": [],
   "source": [
    "mean_trajectories(G_dict,'1','6')"
   ]
  }
 ],
 "metadata": {
  "kernelspec": {
   "display_name": "labor_theololo",
   "language": "python",
   "name": "python3"
  },
  "language_info": {
   "codemirror_mode": {
    "name": "ipython",
    "version": 3
   },
   "file_extension": ".py",
   "mimetype": "text/x-python",
   "name": "python",
   "nbconvert_exporter": "python",
   "pygments_lexer": "ipython3",
   "version": "3.11.5"
  }
 },
 "nbformat": 4,
 "nbformat_minor": 2
}
