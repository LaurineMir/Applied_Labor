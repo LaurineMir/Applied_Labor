{
 "cells": [
  {
   "cell_type": "code",
   "execution_count": 1,
   "metadata": {},
   "outputs": [],
   "source": [
    "import pandas as pd\n",
    "import os\n",
    "import matplotlib.pyplot as plt\n",
    "import numpy as np\n",
    "import seaborn as sns\n",
    "from sklearn.model_selection import train_test_split,KFold\n",
    "import pickle"
   ]
  },
  {
   "cell_type": "code",
   "execution_count": 2,
   "metadata": {},
   "outputs": [],
   "source": [
    "import ot\n",
    "from sklearn.linear_model import Ridge\n",
    "from sklearn.preprocessing import SplineTransformer\n",
    "from sklearn.pipeline import make_pipeline\n",
    "from sklearn.metrics import mean_squared_error"
   ]
  },
  {
   "cell_type": "code",
   "execution_count": 3,
   "metadata": {},
   "outputs": [],
   "source": [
    "from utils import *\n",
    "from estimators import train_random_forest"
   ]
  },
  {
   "cell_type": "code",
   "execution_count": 4,
   "metadata": {},
   "outputs": [],
   "source": [
    "data_path =\"//casd.fr/casdfs/Projets/ENSAE05/Data\"\n",
    "os.chdir(data_path)"
   ]
  },
  {
   "cell_type": "code",
   "execution_count": 5,
   "metadata": {},
   "outputs": [],
   "source": [
    "path = \"c:/Users/Public/Documents/teo&lolo/big_df1319.csv\""
   ]
  },

  {
   "cell_type": "code",
   "execution_count": 8,
   "metadata": {},
   "outputs": [],
   "source": [
    "big_df = get_cleaned_df_from_path(path)\n"
   ]
  },
  
  {
   "cell_type": "code",
   "execution_count": 8,
   "metadata": {},
   "outputs": [],
   "source": [
    "big_df=convert_snr(big_df)"
   ]
  },
  
  
 
  {
   "cell_type": "code",
   "execution_count": 11,
   "metadata": {},
   "outputs": [],
   "source": [
    "# Calculer dataframe pour age = 30",
    "df = big_df[((big_df['AGE']==30) | (big_df['AGE']==31))]",
    " sample=get_sampled_df_age(df,30, 0, 1000,verbose=True)",
    " df =convert_to_unique_snr(sample, verbose=True)",
   ]
  },
  
  
  {
   "cell_type": "code",
   "execution_count": 15,
   "metadata": {},
   "outputs": [],
   "source": [
    "# Calculer prédictions avec random Forest",
    " sample_filtered = get_subset_joint(df,30)\n",
    "\n",
    " train_random_forest(sample_filtered,30)"
   ]
  },
  
  {
   "cell_type": "code",
   "execution_count": 10,
   "metadata": {},
   "outputs": [],
   "source": [
    "# Calculer plan de transport avec hyperparamètres à 0",
    "df_bis=get_subset_joint(df,30)",
    "G = transport_annee(df_bis,30,alpha=0, beta=0, gamma=0, delta=0,verbose=True,compare_distrib=True)"
   ]
  },

{
   "cell_type": "code",
   "execution_count": null,
   "metadata": {},
   "outputs": [],
   "source": [
    "# Calculer plan de transport avec hyperparamètres non nuls (ceux trouvés grâce à la méthode)",
    "G = transport_annee(df_bis,30,alpha=alpha, beta=beta, gamma=gamma, delta=delta,verbose=True,compare_distrib=True,category=True)"
   ]
  },

  {
   "cell_type": "code",
   "execution_count": 22,
   "metadata": {},
   "outputs": [],
   "source": [
    "# Calculer les meilleurs hyperparamètres pour chaque age",
    " with open('c:/Users/Public/Documents/teo&lolo/params.txt','w') as f:\n",
    "     for age in range(20,61):\n",
    "         df = get_sampled_df_age(big_df,age, 0, 400)\n",
    "         [alpha,beta,gamma,delta],best_list = best_alpha(df, age, 4, verbose=True, init=2)\n",
    "         f.write(f\"age : {age}, alpha :{alpha}, beta :{beta}, gamma :{gamma}, delta :{delta} \\n\")\n",
    "         f.write(f'best scores : {best_list} \\n')\n",
    "         f.flush()\n",
    "         os.fsync(f.fileno())"
   ]
  },
  {
   "cell_type": "code",
   "execution_count": null,
   "metadata": {},
   "outputs": [],
   "source": [
    "# Calculer les plans de transports avec les meilleurs hyperparamètres pour chaque age",
    "n_persons = 4000\n",
    "\n",
    " with open('c:/Users/Public/Documents/teo&lolo/params.txt','r') as f :\n",
    "     G_dict={}\n",
    "     ind=0\n",
    "     for line in f :\n",
    "         print(ind+20)\n",
    "         if line.startswith(\"age :\"):\n",
    "             ind+=1\n",
    "             params=recup_values(line)\n",
    "             age = int(params['age'])\n",
    "             alpha = params['alpha']\n",
    "             beta = params['beta']\n",
    "             gamma = params['gamma']\n",
    "             delta = params['delta']\n",
    "\n",
    "             df = get_sampled_df_age(big_df,age, 0, n_persons)\n",
    "             G_dict[age]= transport_annee(df,age, alpha=alpha, beta=beta, gamma=gamma,delta=delta, compare_distrib=False)\n",
    "            G_dict[f\"df_{age}_0\"] =df[df['AGE']==age].reset_index(drop=True)\n",
    "             G_dict[f\"df_{age}_1\"] =df[df['AGE']==age+1].reset_index(drop=True)\n"
   ]
  },
  {
   "cell_type": "code",
   "execution_count": 12,
   "metadata": {},
   "outputs": [],
   "source": [
    " with open('c:/Users/Public/Documents/teo&lolo/dict_G_bis.pkl',\"wb\") as f:\n",
    "      pickle.dump(G_dict,f)"
   ]
  },
  {
   "cell_type": "code",
   "execution_count": 6,
   "metadata": {},
   "outputs": [],
   "source": [
    "with open('c:/Users/Public/Documents/teo&lolo/dict_G_bis.pkl',\"rb\") as f:\n",
    "   G_dict =  pickle.load(f)"
   ]
  },
 
  {
   "cell_type": "code",
   "execution_count": 8,
   "metadata": {},
   "outputs": [],
   "source": [
    "#reformatter les colonnes en str",
    "G_dict=write_str(G_dict)"
   ]
  },
  
 
  
  {
   "cell_type": "code",
   "execution_count": null,
   "metadata": {},
   "outputs": [],
   "source": [
    "#calculer les trajectoires moyennes pour les ouvriers hommes",
    "mean_trajectories(G_dict,'1','6')"
   ]
  },
  {
   "cell_type": "code",
   "execution_count": null,
   "metadata": {},
   "outputs": [],
   "source": [
    "#calculer les trajectoires moyennes pour les professions intermédiaires hommes",
    "mean_trajectories(G_dict,'1','3')"
   ]
  },
  {
   "cell_type": "code",
   "execution_count": null,
   "metadata": {},
   "outputs": [],
   "source": [
    "#calculer les trajectoires moyennes pour les cadres sup hommes",
    "mean_trajectories(G_dict,'1','4')"
   ]
  },
  {
   "cell_type": "code",
   "execution_count": null,
   "metadata": {},
   "outputs": [],
   "source": [
    "#calculer les trajectoires moyennes pour les artisans hommes",
    "mean_trajectories(G_dict,'1','2')"
   ]
  },
 
  {
   "cell_type": "code",
   "execution_count": null,
   "metadata": {},
   "outputs": [],
   "source": [
    "#calculer les trajectoires moyennes pour les employés hommes",
    "mean_trajectories(G_dict,'1','5')"
   ]
  },
  {
   "cell_type": "code",
   "execution_count": null,
   "metadata": {},
   "outputs": [],
   "source": [
    "#calculer les trajectoires moyennes pour les ouvrières",
    "mean_trajectories(G_dict,'0','6')"
   ]
  },
{
   "cell_type": "code",
   "execution_count": null,
   "metadata": {},
   "outputs": [],
   "source": [
    "#calculer les trajectoires moyennes pour les employées",
    "mean_trajectories(G_dict,'0','5')"
   ]
  },
{
   "cell_type": "code",
   "execution_count": null,
   "metadata": {},
   "outputs": [],
   "source": [
    "#calculer les trajectoires moyennes pour les cadres sup femmes",
    "mean_trajectories(G_dict,'0','4')"
   ]
  },
{
   "cell_type": "code",
   "execution_count": null,
   "metadata": {},
   "outputs": [],
   "source": [
    "#calculer les trajectoires moyennes pour les professions intermédiaires femmes",
    "mean_trajectories(G_dict,'0','3')"
   ]
  },
{
   "cell_type": "code",
   "execution_count": null,
   "metadata": {},
   "outputs": [],
   "source": [
    "#calculer les trajectoires moyennes pour les artisans femmes",
    "mean_trajectories(G_dict,'0','2')"
   ]
  }
 ],
 "metadata": {
  "kernelspec": {
   "display_name": "labor_theololo",
   "language": "python",
   "name": "python3"
  },
  "language_info": {
   "codemirror_mode": {
    "name": "ipython",
    "version": 3
   },
   "file_extension": ".py",
   "mimetype": "text/x-python",
   "name": "python",
   "nbconvert_exporter": "python",
   "pygments_lexer": "ipython3",
   "version": "3.11.5"
  }
 },
 "nbformat": 4,
 "nbformat_minor": 2
}
