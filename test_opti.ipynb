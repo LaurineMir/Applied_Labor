{
 "cells": [
  {
   "cell_type": "code",
   "execution_count": null,
   "metadata": {},
   "outputs": [],
   "source": []
  },
  {
   "cell_type": "markdown",
   "metadata": {},
   "source": [
    "Test optimal transport "
   ]
  },
  {
   "cell_type": "markdown",
   "metadata": {},
   "source": [
    "#Exemple simple entre deux distributions discrètes"
   ]
  },
  {
   "cell_type": "markdown",
   "metadata": {},
   "source": []
  },
  {
   "cell_type": "code",
   "execution_count": 14,
   "metadata": {},
   "outputs": [],
   "source": [
    "import numpy as np\n",
    "import ot\n",
    "import matplotlib.pyplot as plt\n",
    "from scipy.stats import norm"
   ]
  },
  {
   "cell_type": "markdown",
   "metadata": {},
   "source": []
  },
  {
   "cell_type": "code",
   "execution_count": 2,
   "metadata": {},
   "outputs": [
    {
     "name": "stdout",
     "output_type": "stream",
     "text": [
      "Unexpected exception formatting exception. Falling back to standard exception\n"
     ]
    },
    {
     "name": "stderr",
     "output_type": "stream",
     "text": [
      "Traceback (most recent call last):\n",
      "  File \"/Users/laurinemeier/Desktop/4A-ENSAE/MACRO/Applied_Labor/Applied_Labor/.venv/lib/python3.10/site-packages/IPython/core/interactiveshell.py\", line 3579, in run_code\n",
      "  File \"/var/folders/d2/k2f92jwd0p374ygzjvmwn3dh0000gq/T/ipykernel_36104/3048521117.py\", line 3, in <module>\n",
      "    x1= np.linspace(-5, 5, n).reshape((n, 1))\n",
      "NameError: name 'np' is not defined\n",
      "\n",
      "During handling of the above exception, another exception occurred:\n",
      "\n",
      "Traceback (most recent call last):\n",
      "  File \"/Users/laurinemeier/Desktop/4A-ENSAE/MACRO/Applied_Labor/Applied_Labor/.venv/lib/python3.10/site-packages/pygments/styles/__init__.py\", line 45, in get_style_by_name\n",
      "ModuleNotFoundError: No module named 'pygments.styles.default'\n",
      "\n",
      "During handling of the above exception, another exception occurred:\n",
      "\n",
      "Traceback (most recent call last):\n",
      "  File \"/Users/laurinemeier/Desktop/4A-ENSAE/MACRO/Applied_Labor/Applied_Labor/.venv/lib/python3.10/site-packages/IPython/core/interactiveshell.py\", line 2170, in showtraceback\n",
      "  File \"/Users/laurinemeier/Desktop/4A-ENSAE/MACRO/Applied_Labor/Applied_Labor/.venv/lib/python3.10/site-packages/IPython/core/ultratb.py\", line 1457, in structured_traceback\n",
      "  File \"/Users/laurinemeier/Desktop/4A-ENSAE/MACRO/Applied_Labor/Applied_Labor/.venv/lib/python3.10/site-packages/IPython/core/ultratb.py\", line 1348, in structured_traceback\n",
      "  File \"/Users/laurinemeier/Desktop/4A-ENSAE/MACRO/Applied_Labor/Applied_Labor/.venv/lib/python3.10/site-packages/IPython/core/ultratb.py\", line 1195, in structured_traceback\n",
      "  File \"/Users/laurinemeier/Desktop/4A-ENSAE/MACRO/Applied_Labor/Applied_Labor/.venv/lib/python3.10/site-packages/IPython/core/ultratb.py\", line 1085, in format_exception_as_a_whole\n",
      "  File \"/Users/laurinemeier/Desktop/4A-ENSAE/MACRO/Applied_Labor/Applied_Labor/.venv/lib/python3.10/site-packages/IPython/core/ultratb.py\", line 1136, in get_records\n",
      "  File \"/Users/laurinemeier/Desktop/4A-ENSAE/MACRO/Applied_Labor/Applied_Labor/.venv/lib/python3.10/site-packages/pygments/styles/__init__.py\", line 47, in get_style_by_name\n",
      "pygments.util.ClassNotFound: Could not find style module 'pygments.styles.default', though it should be builtin.\n"
     ]
    }
   ],
   "source": [
    "# Source : N(0,1), Target : N(3,1)\n",
    "n = 100\n",
    "x1= np.linspace(-5, 5, n).reshape((n, 1))\n",
    "x2 = np.linspace(-2, 8, n).reshape((n, 1))\n",
    "\n",
    "a = norm.pdf(x1.flatten(), loc=0, scale=1) # densité (poids des différents poids dans le cadre continu)\n",
    "b = norm.pdf(x2.flatten(), loc=3, scale=1)\n",
    "\n",
    "a /= a.sum()\n",
    "b /= b.sum() #correspond à normalisation des poids\n"
   ]
  },
  {
   "cell_type": "markdown",
   "metadata": {},
   "source": []
  },
  {
   "cell_type": "code",
   "execution_count": 3,
   "metadata": {},
   "outputs": [
    {
     "name": "stdout",
     "output_type": "stream",
     "text": [
      "Unexpected exception formatting exception. Falling back to standard exception\n"
     ]
    },
    {
     "name": "stderr",
     "output_type": "stream",
     "text": [
      "Traceback (most recent call last):\n",
      "  File \"/Users/laurinemeier/Desktop/4A-ENSAE/MACRO/Applied_Labor/Applied_Labor/.venv/lib/python3.10/site-packages/IPython/core/interactiveshell.py\", line 3579, in run_code\n",
      "  File \"/var/folders/d2/k2f92jwd0p374ygzjvmwn3dh0000gq/T/ipykernel_36104/3215764479.py\", line 4, in <module>\n",
      "    C = ot.dist(x1, x2)\n",
      "NameError: name 'ot' is not defined\n",
      "\n",
      "During handling of the above exception, another exception occurred:\n",
      "\n",
      "Traceback (most recent call last):\n",
      "  File \"/Users/laurinemeier/Desktop/4A-ENSAE/MACRO/Applied_Labor/Applied_Labor/.venv/lib/python3.10/site-packages/pygments/styles/__init__.py\", line 45, in get_style_by_name\n",
      "ModuleNotFoundError: No module named 'pygments.styles.default'\n",
      "\n",
      "During handling of the above exception, another exception occurred:\n",
      "\n",
      "Traceback (most recent call last):\n",
      "  File \"/Users/laurinemeier/Desktop/4A-ENSAE/MACRO/Applied_Labor/Applied_Labor/.venv/lib/python3.10/site-packages/IPython/core/interactiveshell.py\", line 2170, in showtraceback\n",
      "  File \"/Users/laurinemeier/Desktop/4A-ENSAE/MACRO/Applied_Labor/Applied_Labor/.venv/lib/python3.10/site-packages/IPython/core/ultratb.py\", line 1457, in structured_traceback\n",
      "  File \"/Users/laurinemeier/Desktop/4A-ENSAE/MACRO/Applied_Labor/Applied_Labor/.venv/lib/python3.10/site-packages/IPython/core/ultratb.py\", line 1348, in structured_traceback\n",
      "  File \"/Users/laurinemeier/Desktop/4A-ENSAE/MACRO/Applied_Labor/Applied_Labor/.venv/lib/python3.10/site-packages/IPython/core/ultratb.py\", line 1195, in structured_traceback\n",
      "  File \"/Users/laurinemeier/Desktop/4A-ENSAE/MACRO/Applied_Labor/Applied_Labor/.venv/lib/python3.10/site-packages/IPython/core/ultratb.py\", line 1085, in format_exception_as_a_whole\n",
      "  File \"/Users/laurinemeier/Desktop/4A-ENSAE/MACRO/Applied_Labor/Applied_Labor/.venv/lib/python3.10/site-packages/IPython/core/ultratb.py\", line 1136, in get_records\n",
      "  File \"/Users/laurinemeier/Desktop/4A-ENSAE/MACRO/Applied_Labor/Applied_Labor/.venv/lib/python3.10/site-packages/pygments/styles/__init__.py\", line 47, in get_style_by_name\n",
      "pygments.util.ClassNotFound: Could not find style module 'pygments.styles.default', though it should be builtin.\n"
     ]
    }
   ],
   "source": [
    "#distance matrix\n",
    "\n",
    "# Euclidienne (simple)\n",
    "C = ot.dist(x1, x2)\n",
    "C /= C.max()"
   ]
  },
  {
   "cell_type": "code",
   "execution_count": 4,
   "metadata": {},
   "outputs": [
    {
     "name": "stdout",
     "output_type": "stream",
     "text": [
      "Unexpected exception formatting exception. Falling back to standard exception\n"
     ]
    },
    {
     "name": "stderr",
     "output_type": "stream",
     "text": [
      "Traceback (most recent call last):\n",
      "  File \"/Users/laurinemeier/Desktop/4A-ENSAE/MACRO/Applied_Labor/Applied_Labor/.venv/lib/python3.10/site-packages/IPython/core/interactiveshell.py\", line 3579, in run_code\n",
      "  File \"/var/folders/d2/k2f92jwd0p374ygzjvmwn3dh0000gq/T/ipykernel_36104/970797756.py\", line 2, in <module>\n",
      "    G1 = ot.emd2(a, b, C)# emd2 donne la Optimal transportation loss = mobilité dans notre cas alors que emd done le paln de transport\n",
      "NameError: name 'ot' is not defined\n",
      "\n",
      "During handling of the above exception, another exception occurred:\n",
      "\n",
      "Traceback (most recent call last):\n",
      "  File \"/Users/laurinemeier/Desktop/4A-ENSAE/MACRO/Applied_Labor/Applied_Labor/.venv/lib/python3.10/site-packages/pygments/styles/__init__.py\", line 45, in get_style_by_name\n",
      "ModuleNotFoundError: No module named 'pygments.styles.default'\n",
      "\n",
      "During handling of the above exception, another exception occurred:\n",
      "\n",
      "Traceback (most recent call last):\n",
      "  File \"/Users/laurinemeier/Desktop/4A-ENSAE/MACRO/Applied_Labor/Applied_Labor/.venv/lib/python3.10/site-packages/IPython/core/interactiveshell.py\", line 2170, in showtraceback\n",
      "  File \"/Users/laurinemeier/Desktop/4A-ENSAE/MACRO/Applied_Labor/Applied_Labor/.venv/lib/python3.10/site-packages/IPython/core/ultratb.py\", line 1457, in structured_traceback\n",
      "  File \"/Users/laurinemeier/Desktop/4A-ENSAE/MACRO/Applied_Labor/Applied_Labor/.venv/lib/python3.10/site-packages/IPython/core/ultratb.py\", line 1348, in structured_traceback\n",
      "  File \"/Users/laurinemeier/Desktop/4A-ENSAE/MACRO/Applied_Labor/Applied_Labor/.venv/lib/python3.10/site-packages/IPython/core/ultratb.py\", line 1195, in structured_traceback\n",
      "  File \"/Users/laurinemeier/Desktop/4A-ENSAE/MACRO/Applied_Labor/Applied_Labor/.venv/lib/python3.10/site-packages/IPython/core/ultratb.py\", line 1085, in format_exception_as_a_whole\n",
      "  File \"/Users/laurinemeier/Desktop/4A-ENSAE/MACRO/Applied_Labor/Applied_Labor/.venv/lib/python3.10/site-packages/IPython/core/ultratb.py\", line 1136, in get_records\n",
      "  File \"/Users/laurinemeier/Desktop/4A-ENSAE/MACRO/Applied_Labor/Applied_Labor/.venv/lib/python3.10/site-packages/pygments/styles/__init__.py\", line 47, in get_style_by_name\n",
      "pygments.util.ClassNotFound: Could not find style module 'pygments.styles.default', though it should be builtin.\n"
     ]
    }
   ],
   "source": [
    "# Solve transport problem\n",
    "G1 = ot.emd2(a, b, C)# emd2 donne la Optimal transportation loss = mobilité dans notre cas alors que emd done le paln de transport\n",
    "G2 = ot.emd(a,b,C) #spécifique aux distributions discrètes donc peu pertient dans notre cadre\n",
    "\n",
    "#entropic regularization optimal transport"
   ]
  },
  {
   "cell_type": "code",
   "execution_count": 5,
   "metadata": {},
   "outputs": [
    {
     "name": "stdout",
     "output_type": "stream",
     "text": [
      "Unexpected exception formatting exception. Falling back to standard exception\n"
     ]
    },
    {
     "name": "stderr",
     "output_type": "stream",
     "text": [
      "Traceback (most recent call last):\n",
      "  File \"/Users/laurinemeier/Desktop/4A-ENSAE/MACRO/Applied_Labor/Applied_Labor/.venv/lib/python3.10/site-packages/IPython/core/interactiveshell.py\", line 3579, in run_code\n",
      "  File \"/var/folders/d2/k2f92jwd0p374ygzjvmwn3dh0000gq/T/ipykernel_36104/1045727456.py\", line 2, in <module>\n",
      "    plt.imshow(G2, aspect='auto', cmap='plasma')\n",
      "NameError: name 'plt' is not defined\n",
      "\n",
      "During handling of the above exception, another exception occurred:\n",
      "\n",
      "Traceback (most recent call last):\n",
      "  File \"/Users/laurinemeier/Desktop/4A-ENSAE/MACRO/Applied_Labor/Applied_Labor/.venv/lib/python3.10/site-packages/pygments/styles/__init__.py\", line 45, in get_style_by_name\n",
      "ModuleNotFoundError: No module named 'pygments.styles.default'\n",
      "\n",
      "During handling of the above exception, another exception occurred:\n",
      "\n",
      "Traceback (most recent call last):\n",
      "  File \"/Users/laurinemeier/Desktop/4A-ENSAE/MACRO/Applied_Labor/Applied_Labor/.venv/lib/python3.10/site-packages/IPython/core/interactiveshell.py\", line 2170, in showtraceback\n",
      "  File \"/Users/laurinemeier/Desktop/4A-ENSAE/MACRO/Applied_Labor/Applied_Labor/.venv/lib/python3.10/site-packages/IPython/core/ultratb.py\", line 1457, in structured_traceback\n",
      "  File \"/Users/laurinemeier/Desktop/4A-ENSAE/MACRO/Applied_Labor/Applied_Labor/.venv/lib/python3.10/site-packages/IPython/core/ultratb.py\", line 1348, in structured_traceback\n",
      "  File \"/Users/laurinemeier/Desktop/4A-ENSAE/MACRO/Applied_Labor/Applied_Labor/.venv/lib/python3.10/site-packages/IPython/core/ultratb.py\", line 1195, in structured_traceback\n",
      "  File \"/Users/laurinemeier/Desktop/4A-ENSAE/MACRO/Applied_Labor/Applied_Labor/.venv/lib/python3.10/site-packages/IPython/core/ultratb.py\", line 1085, in format_exception_as_a_whole\n",
      "  File \"/Users/laurinemeier/Desktop/4A-ENSAE/MACRO/Applied_Labor/Applied_Labor/.venv/lib/python3.10/site-packages/IPython/core/ultratb.py\", line 1136, in get_records\n",
      "  File \"/Users/laurinemeier/Desktop/4A-ENSAE/MACRO/Applied_Labor/Applied_Labor/.venv/lib/python3.10/site-packages/pygments/styles/__init__.py\", line 47, in get_style_by_name\n",
      "pygments.util.ClassNotFound: Could not find style module 'pygments.styles.default', though it should be builtin.\n"
     ]
    }
   ],
   "source": [
    "# Visualisation du plan de transport\n",
    "plt.imshow(G2, aspect='auto', cmap='plasma')\n",
    "plt.title(\"Plan de transport entre N(0,1) et N(3,1)\")\n",
    "plt.xlabel(\"Points cibles (Y)\")\n",
    "plt.ylabel(\"Points source (X)\")\n",
    "plt.colorbar(label='Masse transportée')\n",
    "plt.show()\n",
    "print(G1)"
   ]
  },
  {
   "cell_type": "markdown",
   "metadata": {},
   "source": []
  },
  {
   "cell_type": "code",
   "execution_count": 6,
   "metadata": {},
   "outputs": [
    {
     "name": "stdout",
     "output_type": "stream",
     "text": [
      "Unexpected exception formatting exception. Falling back to standard exception\n"
     ]
    },
    {
     "name": "stderr",
     "output_type": "stream",
     "text": [
      "Traceback (most recent call last):\n",
      "  File \"/Users/laurinemeier/Desktop/4A-ENSAE/MACRO/Applied_Labor/Applied_Labor/.venv/lib/python3.10/site-packages/IPython/core/interactiveshell.py\", line 3579, in run_code\n",
      "  File \"/var/folders/d2/k2f92jwd0p374ygzjvmwn3dh0000gq/T/ipykernel_36104/206762400.py\", line 4, in <module>\n",
      "    z1 = np.linspace(-4, 4, n).reshape((n, 1))\n",
      "NameError: name 'np' is not defined\n",
      "\n",
      "During handling of the above exception, another exception occurred:\n",
      "\n",
      "Traceback (most recent call last):\n",
      "  File \"/Users/laurinemeier/Desktop/4A-ENSAE/MACRO/Applied_Labor/Applied_Labor/.venv/lib/python3.10/site-packages/pygments/styles/__init__.py\", line 45, in get_style_by_name\n",
      "ModuleNotFoundError: No module named 'pygments.styles.default'\n",
      "\n",
      "During handling of the above exception, another exception occurred:\n",
      "\n",
      "Traceback (most recent call last):\n",
      "  File \"/Users/laurinemeier/Desktop/4A-ENSAE/MACRO/Applied_Labor/Applied_Labor/.venv/lib/python3.10/site-packages/IPython/core/interactiveshell.py\", line 2170, in showtraceback\n",
      "  File \"/Users/laurinemeier/Desktop/4A-ENSAE/MACRO/Applied_Labor/Applied_Labor/.venv/lib/python3.10/site-packages/IPython/core/ultratb.py\", line 1457, in structured_traceback\n",
      "  File \"/Users/laurinemeier/Desktop/4A-ENSAE/MACRO/Applied_Labor/Applied_Labor/.venv/lib/python3.10/site-packages/IPython/core/ultratb.py\", line 1348, in structured_traceback\n",
      "  File \"/Users/laurinemeier/Desktop/4A-ENSAE/MACRO/Applied_Labor/Applied_Labor/.venv/lib/python3.10/site-packages/IPython/core/ultratb.py\", line 1195, in structured_traceback\n",
      "  File \"/Users/laurinemeier/Desktop/4A-ENSAE/MACRO/Applied_Labor/Applied_Labor/.venv/lib/python3.10/site-packages/IPython/core/ultratb.py\", line 1085, in format_exception_as_a_whole\n",
      "  File \"/Users/laurinemeier/Desktop/4A-ENSAE/MACRO/Applied_Labor/Applied_Labor/.venv/lib/python3.10/site-packages/IPython/core/ultratb.py\", line 1136, in get_records\n",
      "  File \"/Users/laurinemeier/Desktop/4A-ENSAE/MACRO/Applied_Labor/Applied_Labor/.venv/lib/python3.10/site-packages/pygments/styles/__init__.py\", line 47, in get_style_by_name\n",
      "pygments.util.ClassNotFound: Could not find style module 'pygments.styles.default', though it should be builtin.\n"
     ]
    }
   ],
   "source": [
    "#Ajout de varaibles auxiliaires \n",
    "\n",
    "\n",
    "z1 = np.linspace(-4, 4, n).reshape((n, 1))\n",
    "z2= np.linspace(0, 8, n).reshape((n, 1))\n",
    "\n",
    "# Calcul de la matrice de coût étendue, prenant en compte la variable auxiliaire (on additionne les couts avdc une valeur lambda arbitraire)\n",
    "lambda_aux = 0.1  # Poids de l'importance de la variable auxiliaire\n",
    "C_main = ot.dist(x1, x2)  # Distance entre les variables principales\n",
    "C_aux = ot.dist(z1, z2)  # Distance entre les variables auxiliaires\n",
    "C_extended = C_main + lambda_aux * C_aux  # Matrice de coût étendue"
   ]
  },
  {
   "cell_type": "markdown",
   "metadata": {},
   "source": [
    "Inspiration de Galichon Linear programming : méthode Gurobi"
   ]
  },
  {
   "cell_type": "code",
   "execution_count": null,
   "metadata": {},
   "outputs": [],
   "source": [
    "#matrices de contraintes (égalité des masses int_pix=mu(x))"
   ]
  },
  {
   "cell_type": "code",
   "execution_count": 40,
   "metadata": {},
   "outputs": [],
   "source": [
    "import gurobipy as gp\n",
    "from gurobipy import GRB,Model\n",
    "import numpy as np\n",
    "import scipy.sparse as sp\n",
    "from scipy.optimize import linprog"
   ]
  },
  {
   "cell_type": "code",
   "execution_count": 68,
   "metadata": {},
   "outputs": [],
   "source": [
    "def opti(m,A,d,Phi): \n",
    "    x = m.addMVar(A.shape[1], lb=0, name=\"x\") #poids de transports pour chque variables\n",
    "    # Ajouter la contrainte d'équilibre de masse\n",
    "    m.addConstr(A @ x == d)\n",
    "    # Fonction objectif : minimisation du coût de transport\n",
    "    m.setObjective(Phi.flatten() @ x, GRB.MINIMIZE)\n",
    "    # Résoudre le problème\n",
    "    m.optimize()\n",
    "    return x"
   ]
  },
  {
   "cell_type": "code",
   "execution_count": 81,
   "metadata": {},
   "outputs": [],
   "source": [
    "def visualisation (var1,var2,p,q,pi,name=\"salaire\"):\n",
    "    fig, ax = plt.subplots(figsize=(10, 6))\n",
    "    ax.scatter(var1, p, c='blue', label='Source (p)', zorder=5)\n",
    "    ax.scatter(var2, q, c='red', label='Cible (q)', zorder=5)\n",
    "\n",
    "    for i in range(len(p)):\n",
    "        for j in range(len(q)):\n",
    "            if pi[i, j] > 0:  # Si la masse est transportée\n",
    "                alpha = pi[i, j]  # La transparence ou l'intensité de la couleur est proportionnelle à pi[i, j]\n",
    "                color = plt.cm.viridis(alpha)  # Utilisation de la colormap viridis pour la couleur\n",
    "                \n",
    "                # Dessin de la flèche\n",
    "                ax.annotate('', xy=(var2[j], q[j]), xytext=(var1[i], p[i]),\n",
    "                            arrowprops=dict(facecolor=color, edgecolor=color, alpha=alpha, arrowstyle='->', lw=1))\n",
    "\n",
    "\n",
    "    ax.set_xlabel(f\"{name}\")\n",
    "    ax.set_ylabel(\"Source (p) ou Cible (q)\")\n",
    "    ax.legend()\n",
    "    plt.title(f\"Plan de transport optimal entre les {name} à t et à t+1\")\n",
    "    plt.show()"
   ]
  },
  {
   "cell_type": "code",
   "execution_count": 106,
   "metadata": {},
   "outputs": [],
   "source": [
    "def calcul_A(N,M):\n",
    "    A2 = sp.kron(np.ones((1, M)), sp.eye(N))#sommes des pi_i,j sur q = pi\n",
    "\n",
    "    A1= sp.kron(sp.eye(M), np.ones((1, N)))#somme des pi_i,j sur p = qj\n",
    "    A = sp.vstack([A1, A2]) #on construit matrice globale de contraintes\n",
    "    return A\n"
   ]
  },
  {
   "cell_type": "code",
   "execution_count": 104,
   "metadata": {},
   "outputs": [
    {
     "name": "stdout",
     "output_type": "stream",
     "text": [
      "(3, 9)\n",
      "(3, 9)\n",
      "(6, 9)\n"
     ]
    }
   ],
   "source": [
    "# Distributions de salaires à t (source) et à t+1 (cible)\n",
    "\n",
    "\n",
    "#But de OT : faire correpondre les masses p et q (distribution de salaires) en minimisant un cout (distance entre les sazlires)\n",
    "p_salaire = np.array([0.3, 0.4, 0.3])  # Distribution source (salaires à t)\n",
    "q_salaire = np.array([0.5, 0.2, 0.3])  # Distribution cible (salaires à t+1)\n",
    "d = np.concatenate([p_salaire, q_salaire])# Construit le vecteur d’équilibrage des masses\n",
    "\n",
    "# Normaliser les distributions \n",
    "p_salaire /= p_salaire.sum()\n",
    "q_salaire /= q_salaire.sum()\n",
    "\n",
    "\n",
    "N=3 #dimension de p (3 points)\n",
    "M=3 #dimension de q (3 points)\n",
    "\n",
    "# Calculer la matrice de coût (ici, la distance absolue entre les salaires)\n",
    "salaires_t = np.array([10, 20, 30])  # Exemple de salaires à t\n",
    "salaires_t1 = np.array([15, 25, 35])  # Exemple de salaires à t+1\n",
    "Phi= np.abs(np.subtract.outer(salaires_t, salaires_t1))  # Distance absolue\n",
    "\n",
    "\n",
    "\n",
    "\n",
    "#matrice de contraintes (conservation de masse de source et masse cible)\n",
    "A2 = sp.kron(np.ones((1, M)), sp.eye(N))#sommes des pi_i,j sur q = pi\n",
    "\n",
    "A1= sp.kron(sp.eye(M), np.ones((1, N)))#somme des pi_i,j sur p = qj\n",
    "A = sp.vstack([A1, A2]) #on construit matrice globale de contraintes\n",
    "\n",
    "print(A1.shape)\n",
    "print(A2.shape)\n",
    "print(A.shape)"
   ]
  },
  {
   "cell_type": "code",
   "execution_count": 105,
   "metadata": {},
   "outputs": [
    {
     "name": "stdout",
     "output_type": "stream",
     "text": [
      "Gurobi Optimizer version 12.0.1 build v12.0.1rc0 (mac64[rosetta2] - Darwin 23.6.0 23H420)\n",
      "\n",
      "CPU model: Apple M1 Pro\n",
      "Thread count: 10 physical cores, 10 logical processors, using up to 10 threads\n",
      "\n",
      "Optimize a model with 6 rows, 9 columns and 18 nonzeros\n",
      "Model fingerprint: 0x1b16d0d9\n",
      "Coefficient statistics:\n",
      "  Matrix range     [1e+00, 1e+00]\n",
      "  Objective range  [5e+00, 2e+01]\n",
      "  Bounds range     [0e+00, 0e+00]\n",
      "  RHS range        [2e-01, 5e-01]\n",
      "Presolve time: 0.00s\n",
      "Presolved: 6 rows, 9 columns, 18 nonzeros\n",
      "\n",
      "Iteration    Objective       Primal Inf.    Dual Inf.      Time\n",
      "       0    5.0000000e+00   4.000000e-01   0.000000e+00      0s\n",
      "       1    5.0000000e+00   0.000000e+00   0.000000e+00      0s\n",
      "\n",
      "Solved in 1 iterations and 0.01 seconds (0.00 work units)\n",
      "Optimal objective  5.000000000e+00\n"
     ]
    }
   ],
   "source": [
    "# Résolution du problème avec Gurobi\n",
    "m = Model()\n",
    "x=opti(m,A,d,Phi)"
   ]
  },
  {
   "cell_type": "markdown",
   "metadata": {},
   "source": []
  },
  {
   "cell_type": "code",
   "execution_count": 77,
   "metadata": {},
   "outputs": [
    {
     "name": "stdout",
     "output_type": "stream",
     "text": [
      "Valeur de l'objectif (Gurobi) = 5.0\n",
      "u[0:10] = [5.0, 5.0, 5.0]\n",
      "v[0:10] = [-0.0, 0.0, -0.0]\n",
      "[[0.3 0.  0. ]\n",
      " [0.2 0.2 0. ]\n",
      " [0.  0.  0.3]]\n"
     ]
    }
   ],
   "source": [
    "# Récupérer les résultats\n",
    "if m.status == GRB.OPTIMAL:\n",
    "    pi = x.X.reshape((N, M))  # Plan de transport optimal\n",
    "    u = m.pi[:N]  # Potentiels pour X\n",
    "    v = m.pi[N:]  # Potentiels pour Y\n",
    "    val = m.objVal  # Valeur optimale de l'objectif\n",
    "    print(f\"Valeur de l'objectif (Gurobi) = {val}\")\n",
    "    print(f\"u[0:10] = {u[:10]}\")\n",
    "    print(f\"v[0:10] = {v[:10]}\")\n",
    "    \n",
    "print(pi)"
   ]
  },
  {
   "cell_type": "code",
   "execution_count": 82,
   "metadata": {},
   "outputs": [
    {
     "data": {
      "image/png": "[encoded data removed]",
      "text/plain": [
       "<Figure size 1000x600 with 1 Axes>"
      ]
     },
     "metadata": {},
     "output_type": "display_data"
    }
   ],
   "source": [
    "#visualisation \n",
    "\n",
    "visualisation(salaires_t,salaires_t1,p,q,pi)\n",
    "\n",
    "\n"
   ]
  },
  {
   "cell_type": "code",
   "execution_count": 21,
   "metadata": {},
   "outputs": [],
   "source": [
    "from scipy.spatial.distance import cdist\n",
    "from sklearn.neighbors import KernelDensity"
   ]
  },
  {
   "cell_type": "markdown",
   "metadata": {},
   "source": []
  },
  {
   "cell_type": "code",
   "execution_count": 23,
   "metadata": {},
   "outputs": [
    {
     "name": "stdout",
     "output_type": "stream",
     "text": [
      "[[0.  0.  0.  0.2 0. ]\n",
      " [0.2 0.  0.  0.  0. ]\n",
      " [0.  0.  0.  0.  0.2]\n",
      " [0.  0.  0.2 0.  0. ]\n",
      " [0.  0.2 0.  0.  0. ]]\n"
     ]
    }
   ],
   "source": [
    "#on complique avec des variables auxiliaires\n",
    "X_t = np.array([\n",
    "    [3300, 1],\n",
    "    [2900, 3],\n",
    "    [3400, 0],\n",
    "    [3100, 2],\n",
    "    [3000, 2]\n",
    "]) \n",
    "\n",
    "X_t1 = np.array([\n",
    "    [3000, 4],\n",
    "    [3100, 2],\n",
    "    [4000, 1],\n",
    "    [4100, 2],\n",
    "    [4500, 1]\n",
    "]) \n",
    "\n",
    "#problème sur comment estimer les densités jointes de chaque espace ....\n",
    "#comment trouver p et q ! \n",
    "\n",
    "# Distances internes dans chaque population\n",
    "C1 = cdist(X_t, X_t, metric='sqeuclidean')\n",
    "C2 = cdist(X_t1, X_t1, metric='sqeuclidean')\n",
    "\n",
    "# Distances extrinsèques entre les individus de t et t+1 (pour le terme Wasserstein)\n",
    "M = cdist(X_t, X_t1, metric='sqeuclidean')\n",
    "\n",
    "\n",
    "\n",
    "alpha = 0.5  # pondération entre structure et features\n",
    "\n",
    "T = ot.gromov.fused_gromov_wasserstein(\n",
    "    M, C1, C2, loss_fun='square_loss', alpha=alpha\n",
    ")\n",
    "\n",
    "\n",
    "print(T)\n",
    "\n",
    "#fussed romov Wasserstein"
   ]
  },
  {
   "cell_type": "code",
   "execution_count": 24,
   "metadata": {},
   "outputs": [
    {
     "data": {
      "image/png": "[encoded data removed]",
      "text/plain": [
       "<Figure size 640x480 with 1 Axes>"
      ]
     },
     "metadata": {},
     "output_type": "display_data"
    }
   ],
   "source": [
    "plt.scatter(X_t[:,0],  color='blue', label='Salaires à t', s=100, alpha=0.6)\n",
    "plt.scatter(X_t1[:,0],q, color='red', label='Salaires à t+1', s=100, alpha=0.6)\n",
    "for i in range(len(X_t)):\n",
    "    # Utilise T[i] pour déterminer les correspondances de transport\n",
    "    j = np.argmax(T[i])  # Trouve l'indice du maximum dans T[i] (point vers lequel le point i est transporté)\n",
    "    \n",
    "    # Trace une flèche de X_t[i] vers X_t1[j]\n",
    "    plt.arrow(X_t[i, 0], p[i], X_t1[j, 0] - X_t[i, 0], q[j] - p[i], \n",
    "              head_width=0.05, head_length=0.1, fc='gray', ec='gray', alpha=0.6)\n",
    "\n",
    "# Légende et titre\n",
    "plt.legend()\n",
    "plt.xlabel('Salaires')\n",
    "plt.ylabel('Probabilité (distributions p et q)')\n",
    "plt.title('Transport des salaires de t vers t+1')\n",
    "plt.grid(True)\n",
    "\n",
    "# Affiche le graphique\n",
    "plt.show()"
   ]
  }
 ],
 "metadata": {
  "kernelspec": {
   "display_name": "Python (venv)",
   "language": "python",
   "name": "venv"
  },
  "language_info": {
   "codemirror_mode": {
    "name": "ipython",
    "version": 3
   },
   "file_extension": ".py",
   "mimetype": "text/x-python",
   "name": "python",
   "nbconvert_exporter": "python",
   "pygments_lexer": "ipython3",
   "version": "3.10.9"
  }
 },
 "nbformat": 4,
 "nbformat_minor": 2
}
